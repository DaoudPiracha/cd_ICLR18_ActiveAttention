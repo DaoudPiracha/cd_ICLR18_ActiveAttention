{
 "cells": [
  {
   "cell_type": "code",
   "execution_count": 6,
   "metadata": {
    "collapsed": false
   },
   "outputs": [],
   "source": [
    "--******RUN-1 PARAMETERS*****--\n",
    "\n",
    "---- Instead of 10-way classification its performs BINARY CLASSIFICATION over image pairs\n",
    "require 'xlua'\n",
    "require 'optim'\n",
    "require 'nn'\n",
    "require 'cunn'\n",
    "require 'nngraph'\n",
    "model_utils = require 'model_utils'\n",
    "dofile './provider.lua'\n",
    "c = require 'trepl.colorize'\n",
    "require 'image'\n",
    "\n",
    "cmd_params = {}\n",
    "----- from the opt settings ------\n",
    "cmd_params.save = 'logs_imagenettests/2level_2global_atten'\n",
    "cmd_params.batchSize = 128\n",
    "cmd_params.learningRate = 1\n",
    "cmd_params.learningRateDecay = 1e-7\n",
    "cmd_params.weightDecay = 0.0005\n",
    "cmd_params.momentum = 0.9\n",
    "cmd_params.epochStep = 25\n",
    "cmd_params.mlocal_1 = '2_level_atten/1.1_vgg_local'\n",
    "cmd_params.mlocal_2 = '2_level_atten/1.2_vgg_local'\n",
    "cmd_params.mglobal_1 = '2_level_atten/2.1_vgg_global'\n",
    "cmd_params.mglobal_2 = '2_level_atten/2.2_vgg_global'\n",
    "cmd_params.matten_1 = '2_level_atten/3.1_vgg_atten'\n",
    "cmd_params.matten_2 = '2_level_atten/3.2_vgg_atten'\n",
    "cmd_params.mmatch = '2_level_atten/4_vgg_match'\n",
    "----------------------------------\n",
    "cmd_params.max_epoch = 300\n",
    "cmd_params.backend = 'nn'\n",
    "cmd_params.type = 'cuda'\n",
    "----------------------------------\n",
    "cmd_params.gpumode = 1\n",
    "cmd_params.gpu_setDevice = 1\n"
   ]
  },
  {
   "cell_type": "code",
   "execution_count": 7,
   "metadata": {
    "collapsed": true
   },
   "outputs": [],
   "source": [
    "function cast(t)\n",
    "   if cmd_params.type == 'cuda' then\n",
    "      require 'cunn'\n",
    "        gpumode = cmd_params.gpumode\n",
    "        if gpumode==1 then\n",
    "            cutorch.setDevice(cmd_params.gpu_setDevice)\n",
    "        end\n",
    "      return t:cuda()\n",
    "   elseif cmd_params.type == 'float' then\n",
    "      return t:float()\n",
    "   elseif cmd_params.type == 'cl' then\n",
    "      require 'clnn'\n",
    "      return t:cl()\n",
    "   else\n",
    "      error('Unknown type '..cmd_params.type)\n",
    "   end\n",
    "end"
   ]
  },
  {
   "cell_type": "code",
   "execution_count": 8,
   "metadata": {
    "collapsed": true
   },
   "outputs": [],
   "source": [
    "local seed = 1234567890\n",
    "torch.manualSeed(seed)\n",
    "train_or_val = cmd_params.train_or_val"
   ]
  },
  {
   "cell_type": "code",
   "execution_count": 9,
   "metadata": {
    "collapsed": true
   },
   "outputs": [],
   "source": [
    "----Data Augmentation\n",
    "function data_aug(input)\n",
    "      local bs = input:size(1)\n",
    "      local flip_mask = torch.randperm(bs):le(bs/2)\n",
    "      for i=1,input:size(1) do\n",
    "        if flip_mask[i] == 1 then image.hflip(input[i], input[i]) end\n",
    "      end    \n",
    "    return input\n",
    "    \n",
    "end"
   ]
  },
  {
   "cell_type": "code",
   "execution_count": 10,
   "metadata": {
    "collapsed": false
   },
   "outputs": [
    {
     "data": {
      "text/plain": [
       "\u001b[0;34m==>\u001b[0m loading data\t\n"
      ]
     },
     "execution_count": 10,
     "metadata": {},
     "output_type": "execute_result"
    },
    {
     "data": {
      "text/plain": [
       "\u001b[0;34m==>\u001b[0m setting criterion\t\n"
      ]
     },
     "execution_count": 10,
     "metadata": {},
     "output_type": "execute_result"
    },
    {
     "data": {
      "text/plain": [
       "Will save at logs_imagenettests/2level_2global_atten\t\n"
      ]
     },
     "execution_count": 10,
     "metadata": {},
     "output_type": "execute_result"
    },
    {
     "data": {
      "text/plain": [
       "\u001b[0;34m==>\u001b[0m configuring optimizer\t\n"
      ]
     },
     "execution_count": 10,
     "metadata": {},
     "output_type": "execute_result"
    }
   ],
   "source": [
    "----Initiation\n",
    "\n",
    "--1. Data loading\n",
    "print(c.blue '==>' ..' loading data')\n",
    "provider = torch.load 'provider_imagenet.t7'  --sjmod\n",
    "provider.trainData.data = provider.trainData.data:float()\n",
    "provider.testData.data = provider.testData.data:float()\n",
    "\n",
    "-------------------------------------------------------------------------------------------------\n",
    "\n",
    "--2. Model creation\n",
    "mlocal_1_wts = torch.load('logs_weights/vgg_conv_atten_e-7_2levels_done/mlocal_1.net')\n",
    "mlocal_1 = nn.Sequential()\n",
    "mlocal_1:add(cast(nn.Copy('torch.FloatTensor', torch.type(cast(torch.Tensor())))))\n",
    "mlocal_1:add(mlocal_1_wts)\n",
    "mlocal_1:get(1).updateGradInput = function(input) return end\n",
    "if cmd_params.backend == 'cudnn' then\n",
    "   require 'cudnn'\n",
    "   cudnn.convert(mlocal_1:get(2), cudnn)\n",
    "end\n",
    "\n",
    "mlocal_2_wts = torch.load('logs_weights/vgg_conv_atten_e-7_2levels_done/mlocal_2.net')\n",
    "mlocal_2 = nn.Sequential()\n",
    "mlocal_2:add(mlocal_2_wts)\n",
    "if cmd_params.backend == 'cudnn' then\n",
    "    cudnn.convert(mlocal_2:get(1), cudnn)\n",
    "end\n",
    "\n",
    "mglobal_1_wts = torch.load('logs_weights/vgg_conv_atten_e-7_2levels_done/mglobal_1.net')\n",
    "mglobal_1 = nn.Sequential()\n",
    "mglobal_1:add(mglobal_1_wts)\n",
    "if cmd_params.backend == 'cudnn' then\n",
    "    cudnn.convert(mglobal_1:get(1), cudnn)\n",
    "end\n",
    "\n",
    "mglobal_2_wts = torch.load('logs_weights/vgg_conv_atten_e-7_2levels_done/mglobal_2.net')\n",
    "mglobal_2 = nn.Sequential()\n",
    "mglobal_2:add(mglobal_2_wts)\n",
    "if cmd_params.backend == 'cudnn' then\n",
    "    cudnn.convert(mglobal_2:get(1), cudnn)\n",
    "end\n",
    "\n",
    "matten_1_wts = torch.load('logs_weights/vgg_conv_atten_e-7_2levels_done/matten_1.net')\n",
    "matten_1 = nn.Sequential()\n",
    "matten_1:add(matten_1_wts)\n",
    "if cmd_params.backend == 'cudnn' then\n",
    "    cudnn.convert(matten_1:get(1),cudnn)\n",
    "end\n",
    "\n",
    "matten_2_wts = torch.load('logs_weights/vgg_conv_atten_e-7_2levels_done/matten_2.net')\n",
    "matten_2 = nn.Sequential()\n",
    "matten_2:add(matten_2_wts)\n",
    "if cmd_params.backend == 'cudnn' then\n",
    "    cudnn.convert(matten_2:get(1),cudnn)\n",
    "end\n",
    "\n",
    "mmatch_wts = torch.load('logs_weights/vgg_conv_atten_e-7_2levels_done/mmatch.net')\n",
    "mmatch = nn.Sequential()\n",
    "mmatch:add(mmatch_wts)\n",
    "if cmd_params.backend == 'cudnn' then\n",
    "    cudnn.convert(mmatch:get(1), 'cudnn')\n",
    "end\n",
    "\n",
    "-------------------------------------------------------------------------------------------------\n",
    "-------------------------------------------------------------------------------------------------\n",
    "\n",
    "--3. Criterion\n",
    "print(c.blue'==>' ..' setting criterion')\n",
    "criterion = cast(nn.CrossEntropyCriterion())\n",
    "\n",
    "--4. Testing and saving\n",
    "confusion = optim.ConfusionMatrix(100)\n",
    "print('Will save at '..cmd_params.save)\n",
    "paths.mkdir(cmd_params.save)\n",
    "testLogger = optim.Logger(paths.concat(cmd_params.save, 'test.log'))\n",
    "testLogger:setNames{'% mean class accuracy (train set)', '% mean class accuracy (test set)'}\n",
    "testLogger.showPlot = false\n",
    "\n",
    "-------------------------------------------------------------------------------------------------\n",
    "\n",
    "--5. Learning settings\n",
    "print(c.blue'==>' ..' configuring optimizer')\n",
    "optimState = {\n",
    "  learningRate = cmd_params.learningRate,\n",
    "  weightDecay = cmd_params.weightDecay,\n",
    "  momentum = cmd_params.momentum,\n",
    "  learningRateDecay = cmd_params.learningRateDecay,\n",
    "}"
   ]
  },
  {
   "cell_type": "code",
   "execution_count": 54,
   "metadata": {
    "collapsed": false,
    "scrolled": false
   },
   "outputs": [
    {
     "data": {
      "text/plain": [
       "\u001b[0;34m==>\u001b[0m testing\t\n"
      ]
     },
     "execution_count": 54,
     "metadata": {},
     "output_type": "execute_result"
    },
    {
     "data": {
      "image/png": "[encoded data removed]",
      "text/plain": [
       "Console does not support images"
      ]
     },
     "metadata": {
      "image/png": {
       "height": 34,
       "width": 34
      }
     },
     "output_type": "display_data"
    },
    {
     "data": {
      "image/png": "[encoded data removed]",
      "text/plain": [
       "Console does not support images"
      ]
     },
     "metadata": {
      "image/png": {
       "height": 165,
       "width": 240
      }
     },
     "output_type": "display_data"
    }
   ],
   "source": [
    "  -- disable flips, dropouts and batch normalization\n",
    "    mlocal_1:evaluate()\n",
    "    mlocal_2:evaluate()\n",
    "    mglobal_1:evaluate() \n",
    "    mglobal_2:evaluate() \n",
    "    matten_1:evaluate() \n",
    "    matten_2:evaluate() \n",
    "    mmatch:evaluate()\n",
    "    \n",
    "  print(c.blue '==>'..\" testing\")\n",
    "  local bs = 1\n",
    "  for i=1,100,bs do\n",
    "        \n",
    "    local lfeat_1 = mlocal_1:forward(provider.testData.data:narrow(1,i,bs))           \n",
    "    local gfeat_1 = mglobal_1:forward(lfeat_1)                          \n",
    "    local att_con_1 = matten_1:forward({lfeat_1,gfeat_1})\n",
    "        \n",
    "    local lfeat_2 = mlocal_2:forward(lfeat_1)           \n",
    "    local gfeat_2 = mglobal_2:forward(lfeat_2)                          \n",
    "    local att_con_2 = matten_2:forward({lfeat_2,gfeat_2})\n",
    "\n",
    "    local prediction = mmatch:forward({att_con_1[2], att_con_2[2]})             \n",
    "    confusion:batchAdd(prediction, provider.testData.labels:narrow(1,i,bs))\n",
    "    confusion:updateValids()\n",
    "    --print('Test accuracy:', confusion.totalValid * 100)\n",
    "    \n",
    "    --if confusion.totalValid==0 then\n",
    "        --itorch.image(provider.testData.data:narrow(1,i,bs))\n",
    "        --itorch.image(att_con_2[1])\n",
    "        --print(i)\n",
    "    --end\n",
    "    if i==3 then\n",
    "        itorch.image(provider.testData.data:narrow(1,i,bs))\n",
    "        im_res = image.scale(att_con_2[1]:float(),240,160)\n",
    "        itorch.image(im_res)\n",
    "        image.save('3_atten.png', im_res)\n",
    "    end\n",
    "\n",
    "\n",
    "  confusion:zero()\n",
    "  end\n"
   ]
  }
 ],
 "metadata": {
  "kernelspec": {
   "display_name": "iTorch",
   "language": "lua",
   "name": "itorch"
  },
  "language_info": {
   "name": "lua",
   "version": "5.1"
  }
 },
 "nbformat": 4,
 "nbformat_minor": 0
}
