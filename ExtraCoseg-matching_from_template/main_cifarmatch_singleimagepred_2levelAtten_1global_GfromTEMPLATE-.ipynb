{
 "cells": [
  {
   "cell_type": "code",
   "execution_count": 1,
   "metadata": {
    "collapsed": false
   },
   "outputs": [],
   "source": [
    "--******RUN-1 PARAMETERS*****--\n",
    "\n",
    "---- Instead of 10-way classification its performs BINARY CLASSIFICATION over image pairs\n",
    "require 'xlua'\n",
    "require 'optim'\n",
    "require 'nn'\n",
    "require 'cunn'\n",
    "model_utils = require 'model_utils'\n",
    "dofile './provider.lua'\n",
    "c = require 'trepl.colorize'\n",
    "require 'image'\n",
    "require 'csvigo'\n",
    "\n",
    "cmd_params = {}\n",
    "----- from the opt settings ------\n",
    "cmd_params.save = 'logs_objdiscodata_trial/2_level_atten_1global_concatDP_cifar100'\n",
    "cmd_params.batchSize = 128\n",
    "cmd_params.learningRate = 1\n",
    "cmd_params.learningRateDecay = 1e-7\n",
    "cmd_params.weightDecay = 0.0005\n",
    "cmd_params.momentum = 0.9\n",
    "cmd_params.epochStep = 25\n",
    "\n",
    "cmd_params.mlocal_1 = ''\n",
    "cmd_params.mlocal_2 = ''\n",
    "cmd_params.mglobal_2 = ''\n",
    "cmd_params.matten_1 = ''\n",
    "cmd_params.matten_2 = ''\n",
    "cmd_params.mmatch = ''\n",
    "----------------------------------\n",
    "cmd_params.max_epoch = 300\n",
    "cmd_params.backend = 'nn'\n",
    "cmd_params.type = 'cuda'\n",
    "----------------------------------\n",
    "cmd_params.gpumode = 1\n",
    "cmd_params.gpu_setDevice = 1\n"
   ]
  },
  {
   "cell_type": "code",
   "execution_count": 2,
   "metadata": {
    "collapsed": true
   },
   "outputs": [],
   "source": [
    "function cast(t)\n",
    "   if cmd_params.type == 'cuda' then\n",
    "      require 'cunn'\n",
    "        gpumode = cmd_params.gpumode\n",
    "        if gpumode==1 then\n",
    "            cutorch.setDevice(cmd_params.gpu_setDevice)\n",
    "        end\n",
    "      return t:cuda()\n",
    "   elseif cmd_params.type == 'float' then\n",
    "      return t:float()\n",
    "   elseif cmd_params.type == 'cl' then\n",
    "      require 'clnn'\n",
    "      return t:cl()\n",
    "   else\n",
    "      error('Unknown type '..cmd_params.type)\n",
    "   end\n",
    "end"
   ]
  },
  {
   "cell_type": "code",
   "execution_count": 3,
   "metadata": {
    "collapsed": true
   },
   "outputs": [],
   "source": [
    "local seed = 1234567890\n",
    "torch.manualSeed(seed)\n",
    "train_or_val = cmd_params.train_or_val"
   ]
  },
  {
   "cell_type": "code",
   "execution_count": 4,
   "metadata": {
    "collapsed": true
   },
   "outputs": [],
   "source": [
    "----Data Augmentation\n",
    "function data_aug(input)\n",
    "      local bs = input:size(1)\n",
    "      local flip_mask = torch.randperm(bs):le(bs/2)\n",
    "      for i=1,input:size(1) do\n",
    "        if flip_mask[i] == 1 then image.hflip(input[i], input[i]) end\n",
    "      end    \n",
    "    return input\n",
    "    \n",
    "end"
   ]
  },
  {
   "cell_type": "code",
   "execution_count": 5,
   "metadata": {
    "collapsed": false
   },
   "outputs": [
    {
     "data": {
      "text/plain": [
       "\u001b[0;34m==>\u001b[0m loading data\t\n"
      ]
     },
     "execution_count": 5,
     "metadata": {},
     "output_type": "execute_result"
    },
    {
     "data": {
      "text/plain": [
       "{\n",
       "  data : FloatTensor - size: 11x3x32x32\n",
       "  size : function: 0x41d86678\n",
       "  labels : DoubleTensor - size: 11x1\n",
       "}\n"
      ]
     },
     "execution_count": 5,
     "metadata": {},
     "output_type": "execute_result"
    },
    {
     "data": {
      "image/png": "[encoded data removed]",
      "text/plain": [
       "Console does not support images"
      ]
     },
     "metadata": {
      "image/png": {
       "height": 32,
       "width": 32
      }
     },
     "output_type": "display_data"
    },
    {
     "data": {
      "text/plain": [
       " 1\n",
       "[torch.DoubleTensor of size 1]\n",
       "\n"
      ]
     },
     "execution_count": 5,
     "metadata": {},
     "output_type": "execute_result"
    }
   ],
   "source": [
    "----Initiation\n",
    "require 'nngraph'\n",
    "--1. Data loading\n",
    "print(c.blue '==>' ..' loading data')\n",
    "\n",
    "\n",
    "--provider = torch.load './dataset/cifar100_whitened.t7'  ---sjmod\n",
    "provider = torch.load './dataset/norms/person_bearperson_norm.t7'  ---sjmod\n",
    "provider.trainData.data = provider.trainData.data:float()\n",
    "provider.testData.data = provider.testData.data:float()\n",
    "--[[\n",
    "provider = torch.load './dataset/person_bearperson.t7'  ---sjmod\n",
    "provider.testData = {}\n",
    "provider.testData.data = provider.data:float()\n",
    "provider.testData.labels = provider.label\n",
    "--]]\n",
    "print(provider.testData)\n",
    "itorch.image(provider.testData.data[1]:squeeze())\n",
    "print(provider.testData.labels[1])\n"
   ]
  },
  {
   "cell_type": "code",
   "execution_count": 6,
   "metadata": {
    "collapsed": false
   },
   "outputs": [
    {
     "data": {
      "text/plain": [
       "\u001b[0;34m==>\u001b[0m setting criterion\t\n",
       "Will save at logs_objdiscodata_trial/2_level_atten_1global_concatDP_cifar100\t\n"
      ]
     },
     "execution_count": 6,
     "metadata": {},
     "output_type": "execute_result"
    },
    {
     "data": {
      "text/plain": [
       "\u001b[0;34m==>\u001b[0m configuring optimizer\t\n"
      ]
     },
     "execution_count": 6,
     "metadata": {},
     "output_type": "execute_result"
    }
   ],
   "source": [
    "\n",
    "\n",
    "-------------------------------------------------------------------------------------------------\n",
    "--2. Model creation\n",
    "mlocal1_wts = torch.load('./weights/2_level_atten_1global_concatDP_cifar10/mlocal_1.net')\n",
    "mlocal_1 = nn.Sequential()\n",
    "mlocal_1:add(cast(nn.Copy('torch.FloatTensor', torch.type(cast(torch.Tensor())))))\n",
    "--mlocal_1:add(cast(dofile('models/'..cmd_params.mlocal_1..'.lua')))\n",
    "mlocal_1:add(mlocal1_wts)\n",
    "mlocal_1:get(1).updateGradInput = function(input) return end\n",
    "if cmd_params.backend == 'cudnn' then\n",
    "   require 'cudnn'\n",
    "   cudnn.convert(mlocal_1:get(2), cudnn)\n",
    "end\n",
    "\n",
    "mlocal2_wts = torch.load('./weights/2_level_atten_1global_concatDP_cifar10/mlocal_2.net')\n",
    "mlocal_2 = nn.Sequential()\n",
    "--mlocal_2:add(cast(dofile('models/'..cmd_params.mlocal_2..'.lua')))\n",
    "mlocal_2:add(mlocal2_wts)\n",
    "if cmd_params.backend == 'cudnn' then\n",
    "    cudnn.convert(mlocal_2:get(1), cudnn)\n",
    "end\n",
    "\n",
    "-----------------------------------------------------------------------------------------------\n",
    "mglobal2_wts = torch.load('./weights/2_level_atten_1global_concatDP_cifar10/mglobal_2.net')\n",
    "mglobal_2 = nn.Sequential()\n",
    "--mglobal_3:add(cast(dofile('models/'..cmd_params.mglobal_3..'.lua')))\n",
    "mglobal_2:add(mglobal2_wts)\n",
    "if cmd_params.backend == 'cudnn' then\n",
    "    cudnn.convert(mglobal_2:get(1), cudnn)\n",
    "end\n",
    "-------------------------------------------------------------------------------------------------\n",
    "\n",
    "matten1_wts = torch.load('./weights/2_level_atten_1global_concatDP_cifar10/matten_1.net')\n",
    "matten_1 = nn.Sequential()\n",
    "--matten_1:add(cast(dofile('models/'..cmd_params.matten_1..'.lua')))\n",
    "matten_1:add(matten1_wts)\n",
    "if cmd_params.backend == 'cudnn' then\n",
    "    cudnn.convert(matten_1:get(1),cudnn)\n",
    "end\n",
    "\n",
    "matten2_wts = torch.load('./weights/2_level_atten_1global_concatDP_cifar10/matten_2.net')\n",
    "matten_2 = nn.Sequential()\n",
    "--matten_2:add(cast(dofile('models/'..cmd_params.matten_2..'.lua')))\n",
    "matten_2:add(matten2_wts)\n",
    "if cmd_params.backend == 'cudnn' then\n",
    "    cudnn.convert(matten_2:get(1),cudnn)\n",
    "end\n",
    "\n",
    "-------------------------------------------------------------------------------------------------\n",
    "\n",
    "mmatch_wts = torch.load('./weights/2_level_atten_1global_concatDP_cifar10/mmatch.net')\n",
    "mmatch = nn.Sequential()\n",
    "--mmatch:add(cast(dofile('models/' ..cmd_params.mmatch..'.lua')))\n",
    "mmatch:add(mmatch_wts)\n",
    "if cmd_params.backend == 'cudnn' then\n",
    "    cudnn.convert(mmatch:get(1), 'cudnn')\n",
    "end\n",
    "\n",
    "\n",
    "--3. Criterion\n",
    "print(c.blue'==>' ..' setting criterion')\n",
    "criterion = cast(nn.CrossEntropyCriterion())\n",
    "\n",
    "--4. Testing and saving\n",
    "confusion = optim.ConfusionMatrix(100)\n",
    "print('Will save at '..cmd_params.save)\n",
    "paths.mkdir(cmd_params.save)\n",
    "testLogger = optim.Logger(paths.concat(cmd_params.save, 'test.log'))\n",
    "testLogger:setNames{'% mean class accuracy (train set)', '% mean class accuracy (test set)'}\n",
    "testLogger.showPlot = false\n",
    "\n",
    "-------------------------------------------------------------------------------------------------\n",
    "\n",
    "--5. Learning settings\n",
    "print(c.blue'==>' ..' configuring optimizer')\n",
    "optimState = {\n",
    "  learningRate = cmd_params.learningRate,\n",
    "  weightDecay = cmd_params.weightDecay,\n",
    "  momentum = cmd_params.momentum,\n",
    "  learningRateDecay = cmd_params.learningRateDecay,\n",
    "}"
   ]
  },
  {
   "cell_type": "code",
   "execution_count": 7,
   "metadata": {
    "collapsed": false
   },
   "outputs": [],
   "source": [
    "--test_unnorm = torch.load('/home/torrvision/zbs-torch/projects/cifar.torch/cifar100-test.t7')"
   ]
  },
  {
   "cell_type": "code",
   "execution_count": 8,
   "metadata": {
    "collapsed": false
   },
   "outputs": [],
   "source": [
    "function test()\n",
    "  -- disable flips, dropouts and batch normalization\n",
    "    mlocal_1:evaluate()\n",
    "    mlocal_2:evaluate()   \n",
    "    mglobal_2:evaluate()    \n",
    "    matten_1:evaluate() \n",
    "    matten_2:evaluate()    \n",
    "    mmatch:evaluate()\n",
    "\n",
    "  -- Get the GLOBAL FEATURE from the TEMPLATE (first image in the testset)\n",
    "    local l1 = mlocal_1:forward(provider.testData.data:narrow(1,1,1))           \n",
    "    itorch.image(provider.testData.data:narrow(1,1,1))\n",
    "    local l2 = mlocal_2:forward(l1)           \n",
    "    local g = mglobal_2:forward(l2)\n",
    "    -- clone the global vector --\n",
    "    local gmain = g:clone()\n",
    "    --print(gmain:sub(1,5))\n",
    "    --print(gmain:size()) \n",
    "    \n",
    "  -- Set up the TEST-BENCH and run it for CO-SEG\n",
    "    print(c.blue '==>'..\" testing\")\n",
    "    local bs = 1\n",
    "    local nsamples = 11 --provider.testData.data:size(1)\n",
    "    --fv_output = torch.zeros(nsamples,1280)\n",
    "    \n",
    " for i=2,nsamples,bs do \n",
    "    local lfeat_1 = mlocal_1:forward(provider.testData.data:narrow(1,i,bs)) \n",
    "    local lfeat_2 = mlocal_2:forward(lfeat_1)           \n",
    "    \n",
    "    local gmain_re   =   mglobal_2:forward(lfeat_2)        \n",
    "    \n",
    "    local att_con_1 = matten_1:forward({lfeat_1,gmain}) -- ensure the use of gmain\n",
    "    local att_con_2 = matten_2:forward({lfeat_2,gmain}) -- ensure the use of gmain\n",
    "    \n",
    "    itorch.image(provider.testData.data:narrow(1,i,bs))\n",
    "    --print(gmain[1])print(gmain[2])print(gmain[3])print(gmain[4])print(gmain[5])  \n",
    "    --print(lfeat_1[1][1][1])\n",
    "    --print(gmain_re:sub(1,5))\n",
    "    --print(gmain_re:size())\n",
    "    print((gmain-gmain_re):sub(1,5))\n",
    "    --print(provider.testData.labels:narrow(1,i,bs))\n",
    "\n",
    "------------1. Visualizations\n",
    "    --itorch.image(image.scale(att_con_1[1],64,64))\n",
    "    --itorch.image(image.scale(att_con_2[1],64,64))        \n",
    "    csvigo.save(string.format('%s/%03d_%s',cmd_params.save,i,'1.txt'),att_con_1[1]:squeeze():double():totable())\n",
    "    csvigo.save(string.format('%s/%03d_%s',cmd_params.save,i,'2.txt'),att_con_2[1]:squeeze():double():totable())\n",
    "    --image.save(string.format('%s/%03d_%s',cmd_params.save,i,'1.png'),att_con_1[1]:float())\n",
    "    --image.save(string.format('%s/%03d_%s',cmd_params.save,i,'2.png'),att_con_2[1]:float())\n",
    "--------------\n",
    "    local prediction = mmatch:forward({att_con_1[2], att_con_2[2]})                                      \n",
    "------------3. extract the feature vector\n",
    "       --fv_output[i]=(mmatch:get(1).modules[13].output:squeeze():float())\n",
    "------------4. No confusion analysis for labels > 10\n",
    "    confusion:batchAdd(prediction, provider.testData.labels:narrow(1,i,bs))\n",
    "    confusion:updateValids()\n",
    "        \n",
    "-----------2. Analysing the wrong and right predictions\n",
    "    --[[\n",
    "    print(provider.testData.labels:narrow(1,i,bs))\n",
    "    if confusion.totalValid==0 then\n",
    "        itorch.image(testData:narrow(1,i,bs))\n",
    "        print(i)\n",
    "    end\n",
    "    print('Test accuracy:', confusion.totalValid * 100)\n",
    "    confusion:zero()\n",
    "    --]]\n",
    "------------\n",
    "        \n",
    "  end\n",
    "    --fv_output = fv_output:totable()\n",
    "    --csvigo.save('logs_objdiscodata/vggstanfordaction40_atten3_fv.txt',fv_output)\n",
    "    print('Test accuracy:', confusion.totalValid * 100)\n",
    "    confusion:zero()\n",
    "end"
   ]
  },
  {
   "cell_type": "code",
   "execution_count": 9,
   "metadata": {
    "collapsed": false,
    "scrolled": false
   },
   "outputs": [
    {
     "data": {
      "image/png": "[encoded data removed]",
      "text/plain": [
       "Console does not support images"
      ]
     },
     "metadata": {
      "image/png": {
       "height": 34,
       "width": 34
      }
     },
     "output_type": "display_data"
    },
    {
     "data": {
      "text/plain": [
       "\u001b[0;34m==>\u001b[0m testing\t\n"
      ]
     },
     "execution_count": 9,
     "metadata": {},
     "output_type": "execute_result"
    },
    {
     "data": {
      "image/png": "[encoded data removed]",
      "text/plain": [
       "Console does not support images"
      ]
     },
     "metadata": {
      "image/png": {
       "height": 34,
       "width": 34
      }
     },
     "output_type": "display_data"
    },
    {
     "data": {
      "text/plain": [
       " 0.0582\n",
       "-0.0026\n",
       "-0.3008\n",
       "-0.0206\n",
       "-0.0148\n",
       "[torch.CudaTensor of size 5]\n",
       "\n",
       "<csv>\twriting to file: logs_objdiscodata_trial/2_level_atten_1global_concatDP_cifar100/002_1.txt\t\n"
      ]
     },
     "execution_count": 9,
     "metadata": {},
     "output_type": "execute_result"
    },
    {
     "data": {
      "text/plain": [
       "<csv>\twriting done\t\n",
       "<csv>\twriting to file: logs_objdiscodata_trial/2_level_atten_1global_concatDP_cifar100/002_2.txt\t\n",
       "<csv>\twriting done\t\n"
      ]
     },
     "execution_count": 9,
     "metadata": {},
     "output_type": "execute_result"
    },
    {
     "data": {
      "image/png": "[encoded data removed]",
      "text/plain": [
       "Console does not support images"
      ]
     },
     "metadata": {
      "image/png": {
       "height": 34,
       "width": 34
      }
     },
     "output_type": "display_data"
    },
    {
     "data": {
      "text/plain": [
       " 0.0312\n",
       "-0.0013\n",
       "-0.1611\n",
       "-0.0110\n",
       "-0.0079\n",
       "[torch.CudaTensor of size 5]\n",
       "\n",
       "<csv>\twriting to file: logs_objdiscodata_trial/2_level_atten_1global_concatDP_cifar100/003_1.txt\t\n"
      ]
     },
     "execution_count": 9,
     "metadata": {},
     "output_type": "execute_result"
    },
    {
     "data": {
      "text/plain": [
       "<csv>\twriting done\t\n",
       "<csv>\twriting to file: logs_objdiscodata_trial/2_level_atten_1global_concatDP_cifar100/003_2.txt\t\n",
       "<csv>\twriting done\t\n"
      ]
     },
     "execution_count": 9,
     "metadata": {},
     "output_type": "execute_result"
    },
    {
     "data": {
      "image/png": "[encoded data removed]",
      "text/plain": [
       "Console does not support images"
      ]
     },
     "metadata": {
      "image/png": {
       "height": 34,
       "width": 34
      }
     },
     "output_type": "display_data"
    },
    {
     "data": {
      "text/plain": [
       " 0.0282\n",
       "-0.0013\n",
       "-0.1460\n",
       "-0.0100\n",
       "-0.0072\n",
       "[torch.CudaTensor of size 5]\n",
       "\n",
       "<csv>\twriting to file: logs_objdiscodata_trial/2_level_atten_1global_concatDP_cifar100/004_1.txt\t\n"
      ]
     },
     "execution_count": 9,
     "metadata": {},
     "output_type": "execute_result"
    },
    {
     "data": {
      "text/plain": [
       "<csv>\twriting done\t\n"
      ]
     },
     "execution_count": 9,
     "metadata": {},
     "output_type": "execute_result"
    },
    {
     "data": {
      "text/plain": [
       "<csv>\twriting to file: logs_objdiscodata_trial/2_level_atten_1global_concatDP_cifar100/004_2.txt\t\n"
      ]
     },
     "execution_count": 9,
     "metadata": {},
     "output_type": "execute_result"
    },
    {
     "data": {
      "text/plain": [
       "<csv>\twriting done\t\n"
      ]
     },
     "execution_count": 9,
     "metadata": {},
     "output_type": "execute_result"
    },
    {
     "data": {
      "image/png": "[encoded data removed]",
      "text/plain": [
       "Console does not support images"
      ]
     },
     "metadata": {
      "image/png": {
       "height": 34,
       "width": 34
      }
     },
     "output_type": "display_data"
    },
    {
     "data": {
      "text/plain": [
       " 0.0376\n",
       "-0.0016\n",
       "-0.1944\n",
       "-0.0135\n",
       "-0.0098\n",
       "[torch.CudaTensor of size 5]\n",
       "\n",
       "<csv>\twriting to file: logs_objdiscodata_trial/2_level_atten_1global_concatDP_cifar100/005_1.txt\t\n"
      ]
     },
     "execution_count": 9,
     "metadata": {},
     "output_type": "execute_result"
    },
    {
     "data": {
      "text/plain": [
       "<csv>\twriting done\t\n",
       "<csv>\twriting to file: logs_objdiscodata_trial/2_level_atten_1global_concatDP_cifar100/005_2.txt\t\n",
       "<csv>\twriting done\t\n"
      ]
     },
     "execution_count": 9,
     "metadata": {},
     "output_type": "execute_result"
    },
    {
     "data": {
      "image/png": "[encoded data removed]",
      "text/plain": [
       "Console does not support images"
      ]
     },
     "metadata": {
      "image/png": {
       "height": 34,
       "width": 34
      }
     },
     "output_type": "display_data"
    },
    {
     "data": {
      "text/plain": [
       " 0.0488\n",
       "-0.0021\n",
       "-0.2526\n",
       "-0.0171\n",
       "-0.0123\n",
       "[torch.CudaTensor of size 5]\n",
       "\n",
       "<csv>\twriting to file: logs_objdiscodata_trial/2_level_atten_1global_concatDP_cifar100/006_1.txt\t\n"
      ]
     },
     "execution_count": 9,
     "metadata": {},
     "output_type": "execute_result"
    },
    {
     "data": {
      "text/plain": [
       "<csv>\twriting done\t\n",
       "<csv>\twriting to file: logs_objdiscodata_trial/2_level_atten_1global_concatDP_cifar100/006_2.txt\t\n",
       "<csv>\twriting done\t\n"
      ]
     },
     "execution_count": 9,
     "metadata": {},
     "output_type": "execute_result"
    },
    {
     "data": {
      "image/png": "[encoded data removed]",
      "text/plain": [
       "Console does not support images"
      ]
     },
     "metadata": {
      "image/png": {
       "height": 34,
       "width": 34
      }
     },
     "output_type": "display_data"
    },
    {
     "data": {
      "text/plain": [
       "0.01 *\n",
       "-0.9471\n",
       " 0.0454\n",
       " 4.8985\n",
       " 0.3943\n",
       " 0.2860\n",
       "[torch.CudaTensor of size 5]\n",
       "\n",
       "<csv>\twriting to file: logs_objdiscodata_trial/2_level_atten_1global_concatDP_cifar100/007_1.txt\t\n"
      ]
     },
     "execution_count": 9,
     "metadata": {},
     "output_type": "execute_result"
    },
    {
     "data": {
      "text/plain": [
       "<csv>\twriting done\t\n",
       "<csv>\twriting to file: logs_objdiscodata_trial/2_level_atten_1global_concatDP_cifar100/007_2.txt\t\n",
       "<csv>\twriting done\t\n"
      ]
     },
     "execution_count": 9,
     "metadata": {},
     "output_type": "execute_result"
    },
    {
     "data": {
      "image/png": "[encoded data removed]",
      "text/plain": [
       "Console does not support images"
      ]
     },
     "metadata": {
      "image/png": {
       "height": 34,
       "width": 34
      }
     },
     "output_type": "display_data"
    },
    {
     "data": {
      "text/plain": [
       " 0.0422\n",
       "-0.0019\n",
       "-0.2189\n",
       "-0.0150\n",
       "-0.0109\n",
       "[torch.CudaTensor of size 5]\n",
       "\n",
       "<csv>\twriting to file: logs_objdiscodata_trial/2_level_atten_1global_concatDP_cifar100/008_1.txt\t\n"
      ]
     },
     "execution_count": 9,
     "metadata": {},
     "output_type": "execute_result"
    },
    {
     "data": {
      "text/plain": [
       "<csv>\twriting done\t\n",
       "<csv>\twriting to file: logs_objdiscodata_trial/2_level_atten_1global_concatDP_cifar100/008_2.txt\t\n",
       "<csv>\twriting done\t\n"
      ]
     },
     "execution_count": 9,
     "metadata": {},
     "output_type": "execute_result"
    },
    {
     "data": {
      "image/png": "[encoded data removed]",
      "text/plain": [
       "Console does not support images"
      ]
     },
     "metadata": {
      "image/png": {
       "height": 34,
       "width": 34
      }
     },
     "output_type": "display_data"
    },
    {
     "data": {
      "text/plain": [
       "0.01 *\n",
       "-1.8834\n",
       " 0.0935\n",
       " 9.7023\n",
       " 0.7164\n",
       " 0.5115\n",
       "[torch.CudaTensor of size 5]\n",
       "\n",
       "<csv>\twriting to file: logs_objdiscodata_trial/2_level_atten_1global_concatDP_cifar100/009_1.txt\t\n"
      ]
     },
     "execution_count": 9,
     "metadata": {},
     "output_type": "execute_result"
    },
    {
     "data": {
      "text/plain": [
       "<csv>\twriting done\t\n",
       "<csv>\twriting to file: logs_objdiscodata_trial/2_level_atten_1global_concatDP_cifar100/009_2.txt\t\n",
       "<csv>\twriting done\t\n"
      ]
     },
     "execution_count": 9,
     "metadata": {},
     "output_type": "execute_result"
    },
    {
     "data": {
      "image/png": "[encoded data removed]",
      "text/plain": [
       "Console does not support images"
      ]
     },
     "metadata": {
      "image/png": {
       "height": 34,
       "width": 34
      }
     },
     "output_type": "display_data"
    },
    {
     "data": {
      "text/plain": [
       "0.01 *\n",
       " 0.9100\n",
       "-0.0351\n",
       "-4.7224\n",
       "-0.2887\n",
       "-0.2093\n",
       "[torch.CudaTensor of size 5]\n",
       "\n",
       "<csv>\twriting to file: logs_objdiscodata_trial/2_level_atten_1global_concatDP_cifar100/010_1.txt\t\n"
      ]
     },
     "execution_count": 9,
     "metadata": {},
     "output_type": "execute_result"
    },
    {
     "data": {
      "text/plain": [
       "<csv>\twriting done\t\n",
       "<csv>\twriting to file: logs_objdiscodata_trial/2_level_atten_1global_concatDP_cifar100/010_2.txt\t\n",
       "<csv>\twriting done\t\n"
      ]
     },
     "execution_count": 9,
     "metadata": {},
     "output_type": "execute_result"
    },
    {
     "data": {
      "image/png": "[encoded data removed]",
      "text/plain": [
       "Console does not support images"
      ]
     },
     "metadata": {
      "image/png": {
       "height": 34,
       "width": 34
      }
     },
     "output_type": "display_data"
    },
    {
     "data": {
      "text/plain": [
       " 0.0453\n",
       "-0.0020\n",
       "-0.2350\n",
       "-0.0164\n",
       "-0.0119\n",
       "[torch.CudaTensor of size 5]\n",
       "\n",
       "<csv>\twriting to file: logs_objdiscodata_trial/2_level_atten_1global_concatDP_cifar100/011_1.txt\t\n"
      ]
     },
     "execution_count": 9,
     "metadata": {},
     "output_type": "execute_result"
    },
    {
     "data": {
      "text/plain": [
       "<csv>\twriting done\t\n",
       "<csv>\twriting to file: logs_objdiscodata_trial/2_level_atten_1global_concatDP_cifar100/011_2.txt\t\n",
       "<csv>\twriting done\t\n"
      ]
     },
     "execution_count": 9,
     "metadata": {},
     "output_type": "execute_result"
    },
    {
     "data": {
      "text/plain": [
       "Test accuracy:\t10\t\n"
      ]
     },
     "execution_count": 9,
     "metadata": {},
     "output_type": "execute_result"
    }
   ],
   "source": [
    "for i=1,1 do --cmd_params.max_epoch do\n",
    "  test()\n",
    "end\n"
   ]
  }
 ],
 "metadata": {
  "kernelspec": {
   "display_name": "iTorch",
   "language": "lua",
   "name": "itorch"
  },
  "language_info": {
   "name": "lua",
   "version": "5.1"
  }
 },
 "nbformat": 4,
 "nbformat_minor": 0
}
