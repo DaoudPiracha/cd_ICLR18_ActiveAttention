{
 "cells": [
  {
   "cell_type": "code",
   "execution_count": null,
   "metadata": {
    "collapsed": false
   },
   "outputs": [],
   "source": [
    "-- Code for Wide Residual Networks http://arxiv.org/abs/1605.07146\n",
    "-- (c) Sergey Zagoruyko, 2016\n",
    "require 'xlua'\n",
    "require 'optim'\n",
    "require 'image'\n",
    "require 'cunn'\n",
    "require 'cudnn'\n",
    "c = require 'trepl.colorize'\n",
    "json = require 'cjson'\n",
    "require'augmentation'\n",
    "model_utils = require 'model_utils'   ---sjmod\n",
    "require'provider'\n",
    "require'nngraph'\n",
    "require 'csvigo'\n",
    "\n",
    "-- for memory optimizations and graph generation\n",
    "local optnet = require 'optnet'\n",
    "local graphgen = require 'optnet.graphgen'\n",
    "local iterm = require 'iterm'\n",
    "require 'iterm.dot'\n",
    "\n",
    "opt = {\n",
    "  save = 'logs_objectdiscoverydata/vgg_gap100',\n",
    "  batchSize = 64, --128,\n",
    "  learningRate = 0.1,   ------overwritten\n",
    "  learningRateDecay = 0,   ------overwritten\n",
    "  learningRateDecayRatio = 0.2,   ------overwritten\n",
    "  weightDecay = 0.0005,\n",
    "  dampening = 0,\n",
    "  momentum = 0.9,\n",
    "  epoch_step = \"80\",   ------overwritten\n",
    "  max_epoch = 300,   ------overwritten\n",
    "\n",
    "  model = 'model.t7',\n",
    "\n",
    "  optimMethod = 'sgd',\n",
    "  init_value = 10,\n",
    "  depth = 50,\n",
    "  shortcutType = 'A',\n",
    "  nesterov = false,   ------overwritten\n",
    "  dropout = 0,\n",
    "  hflip = true,\n",
    "  randomcrop = 4,\n",
    "  imageSize = 32,\n",
    "  randomcrop_type = 'zero',   ------overwritten\n",
    "  cudnn_fastest = true,\n",
    "  cudnn_deterministic = false,\n",
    "  optnet_optimize = true,\n",
    "  generate_graph = false,\n",
    "  multiply_input_factor = 1,\n",
    "  widen_factor = 1,\n",
    "}\n",
    "opt = xlua.envparams(opt)\n",
    "\n",
    "opt.epoch_step = tonumber(opt.epoch_step) or loadstring('return '..opt.epoch_step)()\n",
    "--print(opt)\n"
   ]
  },
  {
   "cell_type": "code",
   "execution_count": null,
   "metadata": {
    "collapsed": false
   },
   "outputs": [],
   "source": [
    "print(c.blue '==>' ..' loading data')\n",
    "--provider = torch.load('/media/sjvision/DATASETDISK/cifars/cifar100/cifar100_whitened.t7')\n",
    "provider = torch.load('/media/sjvision/DATASETDISK/ObjectDiscovery-data/ach_100/t7_files/objDiscoData_ach_whitened.t7')\n",
    "print(provider.testData.labels[400])\n",
    "itorch.image(provider.testData.data[400])"
   ]
  },
  {
   "cell_type": "code",
   "execution_count": null,
   "metadata": {
    "collapsed": false,
    "scrolled": true
   },
   "outputs": [],
   "source": [
    "print(c.blue '==>' ..' configuring models')\n",
    "model = nn.Sequential()\n",
    "net = torch.load('logs/vgg_gap_cifar100_14355834/' ..opt.model):cuda()"
   ]
  },
  {
   "cell_type": "code",
   "execution_count": null,
   "metadata": {
    "collapsed": false
   },
   "outputs": [],
   "source": [
    "do\n",
    "   ------Main Model----------INITIALIZATION-----------------\n",
    "   model:add(nn.Copy('torch.FloatTensor','torch.CudaTensor'):cuda())   \n",
    "   model:add(net) -- adding the network -- sjmod\n",
    "end"
   ]
  },
  {
   "cell_type": "code",
   "execution_count": null,
   "metadata": {
    "collapsed": false
   },
   "outputs": [],
   "source": [
    "print(model:get(2):get(51))"
   ]
  },
  {
   "cell_type": "code",
   "execution_count": null,
   "metadata": {
    "collapsed": false
   },
   "outputs": [],
   "source": [
    "function test()\n",
    "  \n",
    "    model:evaluate()\n",
    "    --local confusion = optim.ConfusionMatrix(100)\n",
    "    nsamples = provider.testData.data:size(1)\n",
    "    bs = 1 print(nsamples)\n",
    "    fv_output = torch.zeros(nsamples,512)\n",
    "    \n",
    "  for i = 1,nsamples,bs do \n",
    "        local pred = model:forward(provider.testData.data:narrow(1,i,bs))\n",
    "        pred = pred:reshape(1,100)\n",
    "        fv_output[i] = model:get(2):get(51).output:squeeze():float()\n",
    "        --[[\n",
    "        val, ind = torch.max(pred,2)\n",
    "        print(ind)\n",
    "        print(provider.testData.labels[i])       \n",
    "        confusion:batchAdd(pred, provider.testData.labels:narrow(1,i,bs))   ---testing fwd   ---sjmod\n",
    "        confusion:updateValids()\n",
    "        --]]\n",
    "  end\n",
    "    fv_output = fv_output:totable()\n",
    "    csvigo.save('logs_objectdiscoverydata/vgg_gap100.txt',fv_output)\n",
    "  return 0 --confusion.totalValid * 100\n",
    "    \n",
    "end\n"
   ]
  },
  {
   "cell_type": "code",
   "execution_count": null,
   "metadata": {
    "collapsed": true
   },
   "outputs": [],
   "source": [
    "function extract_attmaps()\n",
    "  \n",
    "    model:evaluate()  \n",
    "    nsamples = provider.testData.data:size(1)\n",
    "    bs = 1 print(nsamples)\n",
    "        \n",
    "  for i = 101,200,bs do \n",
    "        -- fwd prop through the entire network pipeline\n",
    "        local pred = model:forward(provider.testData.data:narrow(1,i,bs))\n",
    "        -- extract the 3D tensor before GAP\n",
    "        local spatialtensor = model:get(2):get(49).output:squeeze()\n",
    "        -- extract the weight vector for the corresponding class\n",
    "        local classid\n",
    "        if i<=100 -- airplane - not present - cant work for the classes not trained for\n",
    "        elseif i<=200\n",
    "            classid = 82\n",
    "        else -- horse - not present - cant work for the classes not trained for\n",
    "        end\n",
    "        local classwtvec = model:get(2):get(52):get(1).weight[classid]:squeeze()\n",
    "        classwtvec = nn.Replicate(8,2,1):cuda():forward(classwtvec)\n",
    "        classwtvec = nn.Replicate(8,2,1):cuda():forward(classwtvec)\n",
    "        -- obtain the attmaps as the dot product at each spatial location in the 3D tensor\n",
    "        local att_map = nn.CMulTable():cuda():forward({spatialtensor,classwtvec})\n",
    "        att_map = nn.Sum(1,3):cuda():forward(att_map)\n",
    "        -- save the attmap\n",
    "        att_map = att_map:totable()\n",
    "        csvigo.save(string.format('/media/sjvision/DATASETDISK/ObjectDiscovery-data/ach_100/VGG-GAP_100/att_maps_raw/%03d_%s',i,'level2.txt'),att_map)\n",
    "  end\n",
    "\n",
    "  return\n",
    "    \n",
    "end"
   ]
  },
  {
   "cell_type": "code",
   "execution_count": null,
   "metadata": {
    "collapsed": false
   },
   "outputs": [],
   "source": [
    "for epoch=1,1 do\n",
    "  --local test_acc, test_time =test()  ----sjmod\n",
    "  extract_attmaps()\n",
    "end"
   ]
  }
 ],
 "metadata": {
  "kernelspec": {
   "display_name": "iTorch",
   "language": "lua",
   "name": "itorch"
  },
  "language_info": {
   "name": "lua",
   "version": "5.1"
  }
 },
 "nbformat": 4,
 "nbformat_minor": 0
}
