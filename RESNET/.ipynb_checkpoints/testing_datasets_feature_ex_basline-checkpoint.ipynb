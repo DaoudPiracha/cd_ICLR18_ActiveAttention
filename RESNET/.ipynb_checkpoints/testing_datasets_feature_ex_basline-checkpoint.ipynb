{
 "cells": [
  {
   "cell_type": "code",
   "execution_count": 1,
   "metadata": {
    "collapsed": false
   },
   "outputs": [],
   "source": [
    "-- Code for Wide Residual Networks http://arxiv.org/abs/1605.07146\n",
    "-- (c) Sergey Zagoruyko, 2016\n",
    "require 'xlua'\n",
    "require 'optim'\n",
    "require 'image'\n",
    "require 'cunn'\n",
    "require 'cudnn'\n",
    "c = require 'trepl.colorize'\n",
    "json = require 'cjson'\n",
    "require'augmentation'\n",
    "model_utils = require 'model_utils'   ---sjmod\n",
    "require'provider'\n",
    "require'nngraph'\n",
    "require 'csvigo'\n",
    "\n",
    "-- for memory optimizations and graph generation\n",
    "local optnet = require 'optnet'\n",
    "local graphgen = require 'optnet.graphgen'\n",
    "local iterm = require 'iterm'\n",
    "require 'iterm.dot'\n",
    "\n",
    "opt = {\n",
    "  save = 'logs_stanfordaction40/resnet164-1_baseline',\n",
    "  batchSize = 64, --128,\n",
    "  learningRate = 0.1,   ------overwritten\n",
    "  learningRateDecay = 0,   ------overwritten\n",
    "  learningRateDecayRatio = 0.2,   ------overwritten\n",
    "  weightDecay = 0.0005,\n",
    "  dampening = 0,\n",
    "  momentum = 0.9,\n",
    "  epoch_step = \"80\",   ------overwritten\n",
    "  max_epoch = 300,   ------overwritten\n",
    "\n",
    "  model = 'model.t7',\n",
    "\n",
    "  optimMethod = 'sgd',\n",
    "  init_value = 10,\n",
    "  depth = 50,\n",
    "  shortcutType = 'A',\n",
    "  nesterov = false,   ------overwritten\n",
    "  dropout = 0,\n",
    "  hflip = true,\n",
    "  randomcrop = 4,\n",
    "  imageSize = 32,\n",
    "  randomcrop_type = 'zero',   ------overwritten\n",
    "  cudnn_fastest = true,\n",
    "  cudnn_deterministic = false,\n",
    "  optnet_optimize = true,\n",
    "  generate_graph = false,\n",
    "  multiply_input_factor = 1,\n",
    "  widen_factor = 1,\n",
    "}\n",
    "opt = xlua.envparams(opt)\n",
    "\n",
    "opt.epoch_step = tonumber(opt.epoch_step) or loadstring('return '..opt.epoch_step)()\n",
    "--print(opt)\n"
   ]
  },
  {
   "cell_type": "code",
   "execution_count": 2,
   "metadata": {
    "collapsed": false
   },
   "outputs": [
    {
     "data": {
      "text/plain": [
       "\u001b[0;34m==>\u001b[0m loading data\t\n"
      ]
     },
     "execution_count": 2,
     "metadata": {},
     "output_type": "execute_result"
    },
    {
     "data": {
      "text/plain": [
       " 1\n",
       "[torch.ByteTensor of size 1]\n",
       "\n"
      ]
     },
     "execution_count": 2,
     "metadata": {},
     "output_type": "execute_result"
    },
    {
     "data": {
      "image/png": "[encoded data removed]",
      "text/plain": [
       "Console does not support images"
      ]
     },
     "metadata": {
      "image/png": {
       "height": 32,
       "width": 32
      }
     },
     "output_type": "display_data"
    }
   ],
   "source": [
    "print(c.blue '==>' ..' loading data')\n",
    "provider = torch.load('/media/sjvision/DATASETDISK/atest/StanfordAction40/t7_files/stanfordaction40_whitened.t7')\n",
    "--provider = torch.load('./datasets/cifar10_whitened.t7')\n",
    "print(provider.testData.labels[400])\n",
    "itorch.image(provider.testData.data[400])"
   ]
  },
  {
   "cell_type": "code",
   "execution_count": 3,
   "metadata": {
    "collapsed": false,
    "scrolled": true
   },
   "outputs": [
    {
     "data": {
      "text/plain": [
       "\u001b[0;34m==>\u001b[0m configuring models\t\n"
      ]
     },
     "execution_count": 3,
     "metadata": {},
     "output_type": "execute_result"
    }
   ],
   "source": [
    "print(c.blue '==>' ..' configuring models')\n",
    "model = nn.Sequential()\n",
    "net = torch.load('logs/cifar100_Resnet-pre-act_164_1/' ..opt.model):cuda()"
   ]
  },
  {
   "cell_type": "code",
   "execution_count": 4,
   "metadata": {
    "collapsed": false
   },
   "outputs": [],
   "source": [
    "do\n",
    "   ------Main Model----------INITIALIZATION-----------------\n",
    "   model:add(nn.Copy('torch.FloatTensor','torch.CudaTensor'):cuda())   \n",
    "   model:add(net) -- adding the network -- sjmod\n",
    "end"
   ]
  },
  {
   "cell_type": "code",
   "execution_count": 5,
   "metadata": {
    "collapsed": false
   },
   "outputs": [],
   "source": [
    "--[[\n",
    "model_all = {}\n",
    "table.insert(model_all, model_1_1)\n",
    "\n",
    "table.insert(model_all, model_1_2)\n",
    "table.insert(model_all, model_2_2)\n",
    "table.insert(model_all, model_3_2)\n",
    "\n",
    "table.insert(model_all, model_1_3)\n",
    "table.insert(model_all, model_2_3)\n",
    "table.insert(model_all, model_3_3)\n",
    "\n",
    "table.insert(model_all, model_4)\n",
    "local parameters, gradParameters = model_utils.combine_all_parameters(model_all)\n",
    "--local parameters,gradParameters = model:getParameters()   --sjmod\n",
    "\n",
    "opt.n_parameters = parameters:numel()\n",
    "print('Network has ', parameters:numel(), 'parameters')\n",
    "\n",
    "print(c.blue'==>' ..' setting criterion')\n",
    "local criterion = nn.CrossEntropyCriterion():cuda()\n",
    "--]]\n",
    "function test()\n",
    "  \n",
    "    model:evaluate()\n",
    "    --local confusion = optim.ConfusionMatrix(10)\n",
    "    \n",
    "    bs = 1\n",
    "    nsamples = provider.testData.data:size(1)\n",
    "    fv_output = torch.zeros(nsamples,256)\n",
    "    \n",
    "  for i = 1,nsamples,bs do \n",
    "        local pred = model:forward(provider.testData.data:narrow(1,i,bs))\n",
    "        fv_output[i] = model:get(2):get(8).output:squeeze():float()\n",
    "        --[[\n",
    "        val, ind = torch.max(pred,2)\n",
    "        print(ind)\n",
    "        print(provider.testData.labels[i])       \n",
    "        confusion:batchAdd(pred, provider.testData.labels:narrow(1,i,bs))   ---testing fwd   ---sjmod\n",
    "        confusion:updateValids()\n",
    "        --]]\n",
    "  end\n",
    "    fv_output = fv_output:totable()\n",
    "    csvigo.save('logs_stanfordaction40/resnet164-1_baseline_zca_100.txt',fv_output)\n",
    "    \n",
    "  return 0 --confusion.totalValid * 100\n",
    "    \n",
    "end\n"
   ]
  },
  {
   "cell_type": "code",
   "execution_count": 6,
   "metadata": {
    "collapsed": false
   },
   "outputs": [
    {
     "data": {
      "text/plain": [
       "<csv>\twriting to file: logs_indoorscenereco67/resnet164-1_baseline_zca_100.txt\t\n"
      ]
     },
     "execution_count": 6,
     "metadata": {},
     "output_type": "execute_result"
    },
    {
     "data": {
      "text/plain": [
       "<csv>\twriting done\t\n",
       "0\t\n"
      ]
     },
     "execution_count": 6,
     "metadata": {},
     "output_type": "execute_result"
    }
   ],
   "source": [
    "for epoch=1,1 do\n",
    "  local test_acc, test_time =test()  ----sjmod\n",
    "  print(test_acc)\n",
    "end"
   ]
  }
 ],
 "metadata": {
  "kernelspec": {
   "display_name": "iTorch",
   "language": "lua",
   "name": "itorch"
  },
  "language_info": {
   "name": "lua",
   "version": "5.1"
  }
 },
 "nbformat": 4,
 "nbformat_minor": 0
}
