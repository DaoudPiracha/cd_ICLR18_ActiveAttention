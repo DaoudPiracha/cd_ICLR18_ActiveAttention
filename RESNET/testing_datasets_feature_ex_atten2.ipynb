{
 "cells": [
  {
   "cell_type": "code",
   "execution_count": 1,
   "metadata": {
    "collapsed": false
   },
   "outputs": [
    {
     "data": {
      "text/plain": [
       "{\n",
       "  optnet_optimize : true\n",
       "  hflip : true\n",
       "  randomcrop : 4\n",
       "  batchSize : 64\n",
       "  model_1_1 : model_1_1.t7\n",
       "  nesterov : false\n",
       "  cudnn_deterministic : false\n",
       "  multiply_input_factor : 1\n",
       "  momentum : 0.9\n",
       "  optimMethod : sgd\n",
       "  dropout : 0\n",
       "  weightDecay : 0.0005\n",
       "  generate_graph : false\n",
       "  init_value : 10\n",
       "  widen_factor : 1\n",
       "  imageSize : 32\n",
       "  model_3_3 : model_3_3.t7\n",
       "  learningRateDecayRatio : 0.2\n",
       "  dampening : 0\n",
       "  shortcutType : A\n",
       "  model_4 : model_4.t7\n",
       "  depth : 50\n",
       "  model_1_3 : model_1_3.t7\n",
       "  model_2_3 : model_2_3.t7\n",
       "  model_1_2 : model_1_2.t7\n",
       "  randomcrop_type : zero\n",
       "  learningRateDecay : 0\n",
       "  cudnn_fastest : true\n",
       "  model_3_2 : model_3_2.t7\n",
       "  max_epoch : 300\n",
       "  save : logs_testingvisu/resnet164_att2\n"
      ]
     },
     "execution_count": 1,
     "metadata": {},
     "output_type": "execute_result"
    }
   ],
   "source": [
    "-- Code for Wide Residual Networks http://arxiv.org/abs/1605.07146\n",
    "-- (c) Sergey Zagoruyko, 2016\n",
    "require 'xlua'\n",
    "require 'optim'\n",
    "require 'image'\n",
    "require 'cunn'\n",
    "require 'cudnn'\n",
    "c = require 'trepl.colorize'\n",
    "json = require 'cjson'\n",
    "require'augmentation'\n",
    "model_utils = require 'model_utils'   ---sjmod\n",
    "require'provider'\n",
    "require'nngraph'\n",
    "require 'csvigo'\n",
    "\n",
    "-- for memory optimizations and graph generation\n",
    "local optnet = require 'optnet'\n",
    "local graphgen = require 'optnet.graphgen'\n",
    "local iterm = require 'iterm'\n",
    "require 'iterm.dot'\n",
    "\n",
    "opt = {\n",
    "  save = 'logs_testingvisu/resnet164_att2',\n",
    "  batchSize = 64, --128,\n",
    "  learningRate = 0.1,   ------overwritten\n",
    "  learningRateDecay = 0,   ------overwritten\n",
    "  learningRateDecayRatio = 0.2,   ------overwritten\n",
    "  weightDecay = 0.0005,\n",
    "  dampening = 0,\n",
    "  momentum = 0.9,\n",
    "  epoch_step = \"80\",   ------overwritten\n",
    "  max_epoch = 300,   ------overwritten\n",
    "\n",
    "  model_1_1 = 'model_1_1.t7',\n",
    "  model_1_2 = 'model_1_2.t7',\n",
    "  model_1_3 = 'model_1_3.t7',\n",
    "\n",
    "  model_2_3 = 'model_2_3.t7',\n",
    "  \n",
    "  model_3_2 = 'model_3_2.t7',\n",
    "  model_3_3 = 'model_3_3.t7',\n",
    "\n",
    "  model_4 = 'model_4.t7',\n",
    "\n",
    "  optimMethod = 'sgd',\n",
    "  init_value = 10,\n",
    "  depth = 50,\n",
    "  shortcutType = 'A',\n",
    "  nesterov = false,   ------overwritten\n",
    "  dropout = 0,\n",
    "  hflip = true,\n",
    "  randomcrop = 4,\n",
    "  imageSize = 32,\n",
    "  randomcrop_type = 'zero',   ------overwritten\n",
    "  cudnn_fastest = true,\n",
    "  cudnn_deterministic = false,\n",
    "  optnet_optimize = true,\n",
    "  generate_graph = false,\n",
    "  multiply_input_factor = 1,\n",
    "  widen_factor = 1,\n",
    "}\n",
    "opt = xlua.envparams(opt)\n",
    "\n",
    "opt.epoch_step = tonumber(opt.epoch_step) or loadstring('return '..opt.epoch_step)()\n",
    "print(opt)\n"
   ]
  },
  {
   "cell_type": "code",
   "execution_count": 2,
   "metadata": {
    "collapsed": false
   },
   "outputs": [
    {
     "data": {
      "text/plain": [
       "  epoch_step : 80\n",
       "  learningRate : 0.1\n",
       "}\n"
      ]
     },
     "execution_count": 1,
     "metadata": {},
     "output_type": "execute_result"
    },
    {
     "data": {
      "text/plain": [
       "\u001b[0;34m==>\u001b[0m loading data\t\n"
      ]
     },
     "execution_count": 2,
     "metadata": {},
     "output_type": "execute_result"
    },
    {
     "ename": "[string \"print(c.blue '==>' ..' loading data')...\"]:9: attempt to index global 'provider' (a nil value)\nstack traceback:\n\t[string \"print(c.blue '==>' ..' loading data')...\"]:9: in main chunk\n\t[C]: in function 'xpcall'\n\t/home/sjvision/torch/install/share/lua/5.1/itorch/main.lua:210: in function </home/sjvision/torch/install/share/lua/5.1/itorch/main.lua:174>\n\t/home/sjvision/torch/install/share/lua/5.1/lzmq/poller.lua:75: in function 'poll'\n\t.../sjvision/torch/install/share/lua/5.1/lzmq/impl/loop.lua:307: in function 'poll'\n\t.../sjvision/torch/install/share/lua/5.1/lzmq/impl/loop.lua:325: in function 'sleep_ex'\n\t.../sjvision/torch/install/share/lua/5.1/lzmq/impl/loop.lua:370: in function 'start'\n\t/home/sjvision/torch/install/share/lua/5.1/itorch/main.lua:389: in main chunk\n\t[C]: in function 'require'\n\t(command line):1: in main chunk\n\t[C]: at 0x00406670",
     "evalue": "",
     "output_type": "error",
     "traceback": [
      "[string \"print(c.blue '==>' ..' loading data')...\"]:9: attempt to index global 'provider' (a nil value)\nstack traceback:\n\t[string \"print(c.blue '==>' ..' loading data')...\"]:9: in main chunk\n\t[C]: in function 'xpcall'\n\t/home/sjvision/torch/install/share/lua/5.1/itorch/main.lua:210: in function </home/sjvision/torch/install/share/lua/5.1/itorch/main.lua:174>\n\t/home/sjvision/torch/install/share/lua/5.1/lzmq/poller.lua:75: in function 'poll'\n\t.../sjvision/torch/install/share/lua/5.1/lzmq/impl/loop.lua:307: in function 'poll'\n\t.../sjvision/torch/install/share/lua/5.1/lzmq/impl/loop.lua:325: in function 'sleep_ex'\n\t.../sjvision/torch/install/share/lua/5.1/lzmq/impl/loop.lua:370: in function 'start'\n\t/home/sjvision/torch/install/share/lua/5.1/itorch/main.lua:389: in main chunk\n\t[C]: in function 'require'\n\t(command line):1: in main chunk\n\t[C]: at 0x00406670"
     ]
    }
   ],
   "source": [
    "print(c.blue '==>' ..' loading data')\n",
    "--provider= torch.load('/media/sjvision/DATASETDISK/cifars/Cifar10/cifar10_whitened_orig.t7')\n",
    "\n",
    "--provider = torch.load('/media/sjvision/DATASETDISK/atest/Event8/t7_files/event8_whitened.t7')  ---sjmod\n",
    "--provider = torch.load('/media/sjvision/DATASETDISK/atest/Caltech101/t7_files/caltech101_whitened.t7')  ---sjmod\n",
    "--provider = torch.load('/media/sjvision/DATASETDISK/atest/IndoorSceneRecognition67/t7_files/indoorscenereco67_whitened.t7')  -\n",
    "provider = torch.load('/media/sjvision/DATASETDISK/atest/StanfordAction40/t7_files/stanfordaction40_whitened.t7')\n",
    "\n",
    "print(provider.testData.labels[55])\n",
    "itorch.image(provider.testData.data[55])"
   ]
  },
  {
   "cell_type": "code",
   "execution_count": null,
   "metadata": {
    "collapsed": false,
    "scrolled": true
   },
   "outputs": [],
   "source": [
    "print(c.blue '==>' ..' configuring models')\n",
    "----------------------------------------------------------------\n",
    "model_1_1 = nn.Sequential()\n",
    "\n",
    "model_1_2 = nn.Sequential()\n",
    "model_2_2 = nn.Sequential()\n",
    "model_3_2 = nn.Sequential()\n",
    "\n",
    "model_1_3 = nn.Sequential()\n",
    "model_2_3 = nn.Sequential()\n",
    "model_3_3 = nn.Sequential()\n",
    "\n",
    "model_4 = nn.Sequential()\n",
    "----------------------------------------------------------------\n",
    "net_1_1 = torch.load('logs/cifar100_resnet_att2_conv_linear_256/' ..opt.model_1_1):cuda()\n",
    "net_1_2 = torch.load('logs/cifar100_resnet_att2_conv_linear_256/'..opt.model_1_2):cuda()\n",
    "net_1_3 = torch.load('logs/cifar100_resnet_att2_conv_linear_256/'..opt.model_1_3):cuda()\n",
    "\n",
    "net_2_3 = torch.load('logs/cifar100_resnet_att2_conv_linear_256/'..opt.model_2_3):cuda()\n",
    "\n",
    "net_3_2 = torch.load('logs/cifar100_resnet_att2_conv_linear_256/'..opt.model_3_2):cuda()\n",
    "net_3_3 = torch.load('logs/cifar100_resnet_att2_conv_linear_256/'..opt.model_3_3):cuda()\n",
    "\n",
    "net_4 = torch.load('logs/cifar100_resnet_att2_conv_linear_256/'..opt.model_4):cuda()\n",
    "----------------------------------------------------------------\n"
   ]
  },
  {
   "cell_type": "code",
   "execution_count": null,
   "metadata": {
    "collapsed": false
   },
   "outputs": [],
   "source": [
    "do\n",
    "   ------Main Model----------INITIALIZATION-----------------\n",
    "\n",
    "   model_1_1:add(nn.Copy('torch.FloatTensor','torch.CudaTensor'):cuda())   \n",
    "   model_1_1:add(net_1_1) ---- adding the network -- sjmod\n",
    "   model_1_2:add(net_1_2) ---- adding the network -- sjmod \n",
    "   model_1_3:add(net_1_3) ---- adding the network -- sjmod\n",
    "   \n",
    "   model_2_3:add(net_2_3) ---- adding the network -- sjmod    \n",
    "   \n",
    "   model_3_2:add(net_3_2) ---- adding the network -- sjmod\n",
    "   model_3_3:add(net_3_3) ---- adding the network -- sjmod\n",
    "\n",
    "   model_4:add(net_4) ---- adding the network -- sjmod\n",
    "  \n",
    "end"
   ]
  },
  {
   "cell_type": "code",
   "execution_count": null,
   "metadata": {
    "collapsed": false
   },
   "outputs": [],
   "source": [
    "\n",
    "--[[\n",
    "model_all = {}\n",
    "table.insert(model_all, model_1_1)\n",
    "\n",
    "table.insert(model_all, model_1_2)\n",
    "table.insert(model_all, model_2_2)\n",
    "table.insert(model_all, model_3_2)\n",
    "\n",
    "table.insert(model_all, model_1_3)\n",
    "table.insert(model_all, model_2_3)\n",
    "table.insert(model_all, model_3_3)\n",
    "\n",
    "table.insert(model_all, model_4)\n",
    "local parameters, gradParameters = model_utils.combine_all_parameters(model_all)\n",
    "--local parameters,gradParameters = model:getParameters()   --sjmod\n",
    "\n",
    "opt.n_parameters = parameters:numel()\n",
    "print('Network has ', parameters:numel(), 'parameters')\n",
    "\n",
    "print(c.blue'==>' ..' setting criterion')\n",
    "local criterion = nn.CrossEntropyCriterion():cuda()\n",
    "--]]\n",
    "function test()\n",
    "  model_1_1:evaluate()\n",
    "  model_1_2:evaluate()\n",
    "  model_1_3:evaluate()\n",
    "    \n",
    "  model_2_3:evaluate()\n",
    "  \n",
    "  model_3_2:evaluate()\n",
    "  model_3_3:evaluate()\n",
    "\n",
    "  model_4:evaluate()\n",
    "\n",
    "  local confusion = optim.ConfusionMatrix(10)\n",
    "  nsamples = 600 --provider.testData.data:size(1)\n",
    "  bs = 1 print(nsamples)\n",
    "  --fv_output = torch.zeros(nsamples,384)  \n",
    "    \n",
    "  for i = 1,nsamples,bs do\n",
    "\n",
    "   local lfeat_160 = model_1_1:forward(provider.testData.data:narrow(1,i,bs))\n",
    "   local lfeat_320 = model_1_2:forward(lfeat_160)\n",
    "   local lfeat_640 = model_1_3:forward(lfeat_320)\n",
    "\n",
    "   local gfeat_640 = model_2_3:forward(lfeat_640)\n",
    "   gfeat_640 = nn.Reshape(1,256):cuda():forward(gfeat_640)\n",
    "        \n",
    "   local att_con_320 = model_3_2:forward({lfeat_320,gfeat_640})\n",
    "   local att_con_640 = model_3_3:forward({lfeat_640,gfeat_640})\n",
    "        \n",
    "   local pred = model_4:forward({att_con_320[2],att_con_640[2]})\n",
    "    ------------1. Visualizations \n",
    "    csvigo.save(string.format('/media/sjvision/DATASETDISK/atest/StanfordAction40/attmaps/attmaps_resnet_100/%03d_%s',i,'level2.txt'),att_con_320[1]:squeeze():double():totable())\n",
    "    csvigo.save(string.format('/media/sjvision/DATASETDISK/atest/StanfordAction40/attmaps/attmaps_resnet_100/%03d_%s',i,'level3.txt'),att_con_640[1]:squeeze():double():totable())\n",
    "    --[[\n",
    "    itorch.image(image.scale(att_con_320[1]:float(),32,32))\n",
    "    itorch.image(image.scale(att_con_640[1]:float(),32,32))\n",
    "    itorch.image(provider.testData.data:narrow(1,i,bs))\n",
    "    --]]\n",
    "   -------------2. Save the features to a file\n",
    "   --fv_output[i] =  model_4:get(1).modules[9].output:squeeze():float()\n",
    "   --print(ind)\n",
    "   --print(provider.testData.labels[i])   \n",
    "        --[[\n",
    "        confusion:batchAdd(pred, provider.testData.labels:narrow(1,i,bs))   -----testing fwd   ----sjmod\n",
    "        confusion:updateValids()\n",
    "        if confusion.totalValid ~= 0 then\n",
    "            image.save(i ..'right_atten1.png', image.scale(att_con_320[1]:float(),32,32))\n",
    "            image.save(i ..'right_atten2.png', image.scale(att_con_640[1]:float(),32,32))\n",
    "            image.save(i ..'right.png',provider.testData.data:narrow(1,i,bs):squeeze())\n",
    "        else\n",
    "            image.save(i ..'wrong_atten1.png', image.scale(att_con_320[1]:float(),32,32))\n",
    "            image.save(i ..'wrong_atten2.png', image.scale(att_con_640[1]:float(),32,32))\n",
    "            image.save(i ..'wrong.png',provider.testData.data:narrow(1,i,bs):squeeze())\n",
    "        end \n",
    "       confusion:zero()\n",
    "        ]]--\n",
    "  end\n",
    "    --fv_output = fv_output:totable()\n",
    "    --csvigo.save('logs_objectdiscoverydata/resnet164_att2_zca_100.txt',fv_output)\n",
    "    return 0 --confusion.totalValid * 100\n",
    "end\n"
   ]
  },
  {
   "cell_type": "code",
   "execution_count": null,
   "metadata": {
    "collapsed": false
   },
   "outputs": [],
   "source": [
    "for epoch=1,1 do\n",
    "  local test_acc, test_time =test()  ----sjmod\n",
    "  print(test_acc)\n",
    "end"
   ]
  }
 ],
 "metadata": {
  "kernelspec": {
   "display_name": "iTorch",
   "language": "lua",
   "name": "itorch"
  },
  "language_info": {
   "name": "lua",
   "version": "5.1"
  }
 },
 "nbformat": 4,
 "nbformat_minor": 0
}
