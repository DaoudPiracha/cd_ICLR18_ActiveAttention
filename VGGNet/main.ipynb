{
 "cells": [
  {
   "cell_type": "code",
   "execution_count": 1,
   "metadata": {
    "collapsed": false
   },
   "outputs": [],
   "source": [
    "require 'xlua'\n",
    "require 'optim'\n",
    "require 'nn'\n",
    "require 'cunn'\n",
    "require 'csvigo'\n",
    "dofile './provider.lua'\n",
    "c = require 'trepl.colorize'\n",
    "\n",
    "\n",
    "cmd_params = {}\n",
    "----- from the opt settings ------\n",
    "cmd_params.save = 'logs_stl10test/vgg_baseline'\n",
    "cmd_params.batchSize = 128\n",
    "cmd_params.learningRate = 1\n",
    "cmd_params.learningRateDecay = 1e-7\n",
    "cmd_params.weightDecay = 0.0005\n",
    "cmd_params.momentum = 0.9\n",
    "cmd_params.epoch_step = 25\n",
    "cmd_params.model = '../RegionMatching_cifar10/models/vgg_bn_drop'  --for cifar10\n",
    "--cmd_params.model = '../RegionMatching_cifar100/logs_cifar100/1_vgg_bn_drop'  --for cifar100\n",
    "cmd_params.max_epoch = 300\n",
    "cmd_params.backend = 'nn'\n",
    "cmd_params.type = 'cuda'\n",
    "----------------------------------\n",
    "cmd_params.name = 'experiment'\n",
    "cmd_params.gpumode = 1\n",
    "cmd_params.gpu_setDevice = 1"
   ]
  },
  {
   "cell_type": "code",
   "execution_count": 2,
   "metadata": {
    "collapsed": false
   },
   "outputs": [],
   "source": [
    "function cast(t)\n",
    "   if cmd_params.type == 'cuda' then\n",
    "      require 'cunn'\n",
    "        gpumode = cmd_params.gpumode\n",
    "        if gpumode==1 then\n",
    "            cutorch.setDevice(cmd_params.gpu_setDevice)\n",
    "        end\n",
    "      return t:cuda()\n",
    "   elseif cmd_params.type == 'float' then\n",
    "      return t:float()\n",
    "   elseif cmd_params.type == 'cl' then\n",
    "      require 'clnn'\n",
    "      return t:cl()\n",
    "   else\n",
    "      error('Unknown type '..cmd_params.type)\n",
    "   end\n",
    "end"
   ]
  },
  {
   "cell_type": "code",
   "execution_count": 3,
   "metadata": {
    "collapsed": false
   },
   "outputs": [],
   "source": [
    "local seed = 1234567890\n",
    "torch.manualSeed(seed)"
   ]
  },
  {
   "cell_type": "code",
   "execution_count": 4,
   "metadata": {
    "collapsed": true
   },
   "outputs": [],
   "source": [
    "----Data Augmentation\n",
    "function data_aug(input)\n",
    "      local bs = input:size(1)\n",
    "      local flip_mask = torch.randperm(bs):le(bs/2)\n",
    "      for i=1,input:size(1) do\n",
    "        if flip_mask[i] == 1 then image.hflip(input[i], input[i]) end\n",
    "      end\n",
    "    return input\n",
    "end"
   ]
  },
  {
   "cell_type": "code",
   "execution_count": 5,
   "metadata": {
    "collapsed": false
   },
   "outputs": [
    {
     "data": {
      "text/plain": [
       "\u001b[0;34m==>\u001b[0m loading data\t\n"
      ]
     },
     "execution_count": 5,
     "metadata": {},
     "output_type": "execute_result"
    },
    {
     "data": {
      "text/plain": [
       "\u001b[0;34m==>\u001b[0m setting criterion\t\n"
      ]
     },
     "execution_count": 5,
     "metadata": {},
     "output_type": "execute_result"
    },
    {
     "data": {
      "text/plain": [
       "Will save at logs_stl10test/vgg_baseline\t\n"
      ]
     },
     "execution_count": 5,
     "metadata": {},
     "output_type": "execute_result"
    },
    {
     "data": {
      "text/plain": [
       "\u001b[0;34m==>\u001b[0m configuring optimizer\t\n"
      ]
     },
     "execution_count": 5,
     "metadata": {},
     "output_type": "execute_result"
    }
   ],
   "source": [
    "----Initiation\n",
    "\n",
    "--1. Data loading\n",
    "print(c.blue '==>' ..' loading data')\n",
    "provider = torch.load '/media/sjvision/DATASETDISK/atest/stl10_matlab_testeddirectlyforaccuracy/t7_files/stl_trainnorm.t7'  --for cifar10\n",
    "--provider = torch.load'/media/sjvision/DATASETDISK/cifars/cifar100/cifar100_whitened.t7'\n",
    "provider.trainData.data = provider.trainData.data:float()\n",
    "provider.testData.data = provider.testData.data:float()\n",
    "----- Load the appropriate data ------\n",
    "\n",
    "--2. Model creation\n",
    "model_wts = torch.load('../RegionMatching_cifar10/logs/vgg_withHFLIP/model.net') --for cifar10\n",
    "--model_wts = torch.load('../RegionMatching_cifar100/logs_cifar100/1_vgg_bn_drop/model_final.net')  --for cifar100\n",
    "model = nn.Sequential()\n",
    "model:add(cast(nn.Copy('torch.FloatTensor', torch.type(cast(torch.Tensor())))))\n",
    "model:add(model_wts)\n",
    "--[[\n",
    "if cmd_params.backend == 'cudnn' then\n",
    "   require 'cudnn'\n",
    "   cudnn.convert(model:get(2), cudnn)\n",
    "end\n",
    "]]--\n",
    "parameters,gradParameters = model:getParameters()\n",
    "\n",
    "--3. Criterion\n",
    "print(c.blue'==>' ..' setting criterion')\n",
    "criterion = cast(nn.CrossEntropyCriterion())\n",
    "\n",
    "--4. Testing and saving\n",
    "print('Will save at '..cmd_params.save)\n",
    "paths.mkdir(cmd_params.save)\n",
    "testLogger = optim.Logger(paths.concat(cmd_params.save, 'test.log'))\n",
    "testLogger:setNames{'% mean class accuracy (train set)', '% mean class accuracy (test set)'}\n",
    "testLogger.showPlot = false\n",
    "\n",
    "--5. Learning settings\n",
    "print(c.blue'==>' ..' configuring optimizer')\n",
    "optimState = {\n",
    "  learningRate = cmd_params.learningRate,\n",
    "  weightDecay = cmd_params.weightDecay,\n",
    "  momentum = cmd_params.momentum,\n",
    "  learningRateDecay = cmd_params.learningRateDecay,\n",
    "}\n"
   ]
  },
  {
   "cell_type": "code",
   "execution_count": 6,
   "metadata": {
    "collapsed": false
   },
   "outputs": [],
   "source": [
    "parameters:size()"
   ]
  },
  {
   "cell_type": "code",
   "execution_count": 7,
   "metadata": {
    "collapsed": false
   },
   "outputs": [
    {
     "data": {
      "text/plain": [
       " 14991946\n",
       "[torch.LongStorage of size 1]\n",
       "\n"
      ]
     },
     "execution_count": 7,
     "metadata": {},
     "output_type": "execute_result"
    }
   ],
   "source": [
    "function test()\n",
    "  -- disable flips, dropouts and batch normalization\n",
    "  model:evaluate()\n",
    "  print(c.blue '==>'..\" testing\")\n",
    "  local confusion = optim.ConfusionMatrix(10)\n",
    "    \n",
    "  local bs = 1\n",
    "  local nsamples = provider.testData.data:size(1)\n",
    "  print(nsamples)\n",
    "  local fv_output = torch.zeros(nsamples,512)\n",
    "  \n",
    "  for i=1,nsamples,bs do \n",
    "    local outputs = model:forward(provider.testData.data:narrow(1,i,bs))\n",
    "-------1. Analysing the right and wrong test samples   \n",
    "    confusion:batchAdd(outputs, provider.testData.labels:narrow(1,i,bs))\n",
    "    confusion:updateValids()\n",
    "    --[[\n",
    "    if confusion.totalValid==0 then\n",
    "        itorch.image(testData:narrow(1,i,bs))\n",
    "        print(i)\n",
    "    end\n",
    "    print('Test accuracy:', confusion.totalValid * 100)\n",
    "    confusion:zero()\n",
    "    --]]\n",
    "------2. Extracting the feature vector\n",
    "    --fv_output[i]=model:get(2):get(54):get(4).output:float()\n",
    "  end\n",
    "  --fv_output = fv_output:totable()\n",
    "  --csvigo.save('logs_stanfordaction40/vgg_baseline_correctfv.txt',fv_output)\n",
    "  print('Test accuracy:', confusion.totalValid * 100)\n",
    "end\n"
   ]
  },
  {
   "cell_type": "code",
   "execution_count": 8,
   "metadata": {
    "collapsed": false
   },
   "outputs": [
    {
     "data": {
      "text/plain": [
       "\u001b[0;34m==>\u001b[0m testing\t\n",
       "5000\t\n"
      ]
     },
     "execution_count": 8,
     "metadata": {},
     "output_type": "execute_result"
    },
    {
     "data": {
      "text/plain": [
       "Test accuracy:\t45.34\t\n"
      ]
     },
     "execution_count": 8,
     "metadata": {},
     "output_type": "execute_result"
    }
   ],
   "source": [
    "for i=1,1 do\n",
    "  test()\n",
    "end"
   ]
  }
 ],
 "metadata": {
  "kernelspec": {
   "display_name": "iTorch",
   "language": "lua",
   "name": "itorch"
  },
  "language_info": {
   "name": "lua",
   "version": "5.1"
  }
 },
 "nbformat": 4,
 "nbformat_minor": 0
}
