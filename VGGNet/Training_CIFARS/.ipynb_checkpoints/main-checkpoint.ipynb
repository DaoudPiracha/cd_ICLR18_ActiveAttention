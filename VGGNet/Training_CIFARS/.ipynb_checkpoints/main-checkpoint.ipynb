{
 "cells": [
  {
   "cell_type": "code",
   "execution_count": null,
   "metadata": {
    "collapsed": false
   },
   "outputs": [],
   "source": [
    "require 'xlua'\n",
    "require 'optim'\n",
    "require 'nn'\n",
    "dofile './provider.lua'\n",
    "c = require 'trepl.colorize'\n",
    "\n",
    "cmd_params = {}\n",
    "----- from the opt settings ------\n",
    "cmd_params.save = 'logs/trials'\n",
    "cmd_params.batchSize = 128\n",
    "cmd_params.learningRate = 1\n",
    "cmd_params.learningRateDecay = 1e-7\n",
    "cmd_params.weightDecay = 0.0005\n",
    "cmd_params.momentum = 0.9\n",
    "cmd_params.epoch_step = 25\n",
    "cmd_params.model = 'vgg_bn_drop'\n",
    "cmd_params.max_epoch = 300\n",
    "cmd_params.backend = 'nn'\n",
    "cmd_params.type = 'cuda'\n",
    "----------------------------------\n",
    "cmd_params.name = 'experiment'\n",
    "cmd_params.gpumode = 1\n",
    "cmd_params.gpu_setDevice = 1\n",
    "  "
   ]
  },
  {
   "cell_type": "code",
   "execution_count": null,
   "metadata": {
    "collapsed": false
   },
   "outputs": [],
   "source": [
    "function cast(t)\n",
    "   if cmd_params.type == 'cuda' then\n",
    "      require 'cunn'\n",
    "        gpumode = cmd_params.gpumode\n",
    "        if gpumode==1 then\n",
    "            cutorch.setDevice(cmd_params.gpu_setDevice)\n",
    "        end\n",
    "      return t:cuda()\n",
    "   elseif cmd_params.type == 'float' then\n",
    "      return t:float()\n",
    "   elseif cmd_params.type == 'cl' then\n",
    "      require 'clnn'\n",
    "      return t:cl()\n",
    "   else\n",
    "      error('Unknown type '..cmd_params.type)\n",
    "   end\n",
    "end"
   ]
  },
  {
   "cell_type": "code",
   "execution_count": null,
   "metadata": {
    "collapsed": false
   },
   "outputs": [],
   "source": [
    "---- parse input params\n",
    "--cmd_params = cmd:parse(arg)\n",
    "--cmd:log(cmd_params.name .. '/log', cmd_params)\n",
    "\n",
    "local seed = 1234567890\n",
    "torch.manualSeed(seed)"
   ]
  },
  {
   "cell_type": "code",
   "execution_count": null,
   "metadata": {
    "collapsed": true
   },
   "outputs": [],
   "source": [
    "----Data Augmentation\n",
    "function data_aug(input)\n",
    "      local bs = input:size(1)\n",
    "      local flip_mask = torch.randperm(bs):le(bs/2)\n",
    "      for i=1,input:size(1) do\n",
    "        if flip_mask[i] == 1 then image.hflip(input[i], input[i]) end\n",
    "      end\n",
    "    return input\n",
    "end"
   ]
  },
  {
   "cell_type": "code",
   "execution_count": null,
   "metadata": {
    "collapsed": false
   },
   "outputs": [],
   "source": [
    "--[[\n",
    "require 'loadcaffe'\n",
    "model = loadcaffe.load('VGG_ILSVRC_16_layers_deploy.prototxt','VGG_ILSVRC_16_layers.caffemodel')\n",
    "print(model)\n",
    "]]--"
   ]
  },
  {
   "cell_type": "code",
   "execution_count": null,
   "metadata": {
    "collapsed": false
   },
   "outputs": [],
   "source": [
    "----Initiation\n",
    "\n",
    "--1. Data loading\n",
    "print(c.blue '==>' ..' loading data')\n",
    "provider = torch.load 'provider.t7'\n",
    "provider.trainData.data = provider.trainData.data:float()\n",
    "provider.testData.data = provider.testData.data:float()\n",
    "----- Load the appropriate data ------\n",
    "\n",
    "--2. Model creation\n",
    "--[[\n",
    "model = nn.Sequential()\n",
    "model:add(cast(nn.Copy('torch.FloatTensor', torch.type(cast(torch.Tensor())))))\n",
    "model:add(cast(dofile('models/'..cmd_params.model..'.lua')))\n",
    "model:get(1).updateGradInput = function(input) return end\n",
    "if cmd_params.backend == 'cudnn' then\n",
    "   require 'cudnn'\n",
    "   cudnn.convert(model:get(2), cudnn)\n",
    "end\n",
    "\n",
    "parameters,gradParameters = model:getParameters()\n",
    "]]--\n",
    "--3. Criterion\n",
    "print(c.blue'==>' ..' setting criterion')\n",
    "criterion = cast(nn.CrossEntropyCriterion())\n",
    "\n",
    "--4. Testing and saving\n",
    "confusion = optim.ConfusionMatrix(10)\n",
    "print('Will save at '..cmd_params.save)\n",
    "paths.mkdir(cmd_params.save)\n",
    "testLogger = optim.Logger(paths.concat(cmd_params.save, 'test.log'))\n",
    "testLogger:setNames{'% mean class accuracy (train set)', '% mean class accuracy (test set)'}\n",
    "testLogger.showPlot = false\n",
    "\n",
    "--5. Learning settings\n",
    "print(c.blue'==>' ..' configuring optimizer')\n",
    "optimState = {\n",
    "  learningRate = cmd_params.learningRate,\n",
    "  weightDecay = cmd_params.weightDecay,\n",
    "  momentum = cmd_params.momentum,\n",
    "  learningRateDecay = cmd_params.learningRateDecay,\n",
    "}\n"
   ]
  },
  {
   "cell_type": "code",
   "execution_count": null,
   "metadata": {
    "collapsed": false
   },
   "outputs": [],
   "source": [
    "--parameters:size()"
   ]
  },
  {
   "cell_type": "code",
   "execution_count": null,
   "metadata": {
    "collapsed": false
   },
   "outputs": [],
   "source": [
    "--Training\n",
    "--[[\n",
    "function train()\n",
    "    \n",
    "    model:training()\n",
    "    epoch = epoch or 1\n",
    "    \n",
    "    if epoch % cmd_params.epoch_step == 0 then optimState.learningRate = optimState.learningRate/2 end\n",
    "    print(c.blue '==>'..\" online epoch # \" .. epoch .. ' [batchSize = ' .. cmd_params.batchSize .. ']')\n",
    " \n",
    "\n",
    "    local targets = cast(torch.FloatTensor(cmd_params.batchSize))\n",
    "    local indices = torch.randperm(provider.trainData.data:size(1)):long():split(cmd_params.batchSize)\n",
    "    -- remove last element so that all the batches have equal size\n",
    "    indices[#indices] = nil\n",
    "\n",
    "    local tic = torch.tic()\n",
    "    ---------- the entire epoch run\n",
    "    for t,v in ipairs(indices) do\n",
    "        xlua.progress(t, #indices)\n",
    "        inputs = provider.trainData.data:index(1,v)\n",
    "        inputs = data_aug(inputs)\n",
    "        targets:copy(provider.trainData.labels:index(1,v))\n",
    "        \n",
    "        local feval = function(x)\n",
    "              if x ~= parameters then parameters:copy(x) end\n",
    "              gradParameters:zero()\n",
    "\n",
    "              local outputs = model:forward(inputs)\n",
    "              local f = criterion:forward(outputs, targets)\n",
    "              local df_do = criterion:backward(outputs, targets)\n",
    "              model:backward(inputs, df_do)\n",
    "\n",
    "              confusion:batchAdd(outputs, targets)\n",
    "\n",
    "              return f,gradParameters\n",
    "        end\n",
    "        optim.sgd(feval, parameters, optimState)\n",
    "    end\n",
    "    -------------\n",
    "  confusion:updateValids()\n",
    "  print(('Train accuracy: '..c.cyan'%.2f'..' %%\\t time: %.2f s'):format(confusion.totalValid * 100, torch.toc(tic)))\n",
    "\n",
    "  train_acc = confusion.totalValid * 100\n",
    "\n",
    "  confusion:zero()\n",
    "  epoch = epoch + 1\n",
    "\n",
    "end\n",
    "]]--"
   ]
  },
  {
   "cell_type": "code",
   "execution_count": null,
   "metadata": {
    "collapsed": true
   },
   "outputs": [],
   "source": [
    "--2. Model creation\n",
    "model_wts = torch.load('./logs/vgg_withHFLIP/model.net')\n",
    "model = nn.Sequential()\n",
    "model:add(cast(nn.Copy('torch.FloatTensor', torch.type(cast(torch.Tensor())))))\n",
    "model:add(model_wts)"
   ]
  },
  {
   "cell_type": "code",
   "execution_count": null,
   "metadata": {
    "collapsed": true
   },
   "outputs": [],
   "source": [
    "function test()\n",
    "  -- disable flips, dropouts and batch normalization\n",
    "  model:evaluate()\n",
    "  print(c.blue '==>'..\" testing\")\n",
    "  local bs = 125\n",
    "  for i=1,provider.testData.data:size(1),bs do\n",
    "    local outputs = model:forward(provider.testData.data:narrow(1,i,bs))\n",
    "    confusion:batchAdd(outputs, provider.testData.labels:narrow(1,i,bs))\n",
    "  end\n",
    "\n",
    "  confusion:updateValids()\n",
    "  print('Test accuracy:', confusion.totalValid * 100)\n",
    "  \n",
    "  if testLogger then\n",
    "    paths.mkdir(cmd_params.save)\n",
    "    testLogger:add{train_acc, confusion.totalValid * 100}\n",
    "    testLogger:style{'-','-'}\n",
    "    testLogger:plot()\n",
    "\n",
    "    local base64im\n",
    "    do\n",
    "      os.execute(('convert -density 200 %s/test.log.eps %s/test.png'):format(cmd_params.save,cmd_params.save))\n",
    "      os.execute(('openssl base64 -in %s/test.png -out %s/test.base64'):format(cmd_params.save,cmd_params.save))\n",
    "      local f = io.open(cmd_params.save..'/test.base64')\n",
    "      if f then base64im = f:read'*all' end\n",
    "    end\n",
    "\n",
    "    local file = io.open(cmd_params.save..'/report.html','w')\n",
    "    file:write(([[\n",
    "    <!DOCTYPE html>\n",
    "    <html>\n",
    "    <body>\n",
    "    <title>%s - %s</title>\n",
    "    <img src=\"data:image/png;base64,%s\">\n",
    "    <h4>optimState:</h4>\n",
    "    <table>\n",
    "    ]]):format(cmd_params.save,epoch,base64im))\n",
    "    for k,v in pairs(optimState) do\n",
    "      if torch.type(v) == 'number' then\n",
    "        file:write('<tr><td>'..k..'</td><td>'..v..'</td></tr>\\n')\n",
    "      end\n",
    "    end\n",
    "    file:write'</table><pre>\\n'\n",
    "    file:write(tostring(confusion)..'\\n')\n",
    "    file:write(tostring(model)..'\\n')\n",
    "    file:write'</pre></body></html>'\n",
    "    file:close()\n",
    "  end\n",
    "\n",
    "  -- save model every 50 epochs\n",
    "  if epoch % 50 == 0 then\n",
    "    local filename = paths.concat(cmd_params.save, 'model.net')\n",
    "    print('==> saving model to '..filename)\n",
    "    torch.save(filename, model:get(2):clearState())\n",
    "  end\n",
    "\n",
    "  confusion:zero()\n",
    "end\n"
   ]
  },
  {
   "cell_type": "code",
   "execution_count": null,
   "metadata": {
    "collapsed": false,
    "scrolled": true
   },
   "outputs": [],
   "source": [
    "for i=1,cmd_params.max_epoch do\n",
    "  --train()\n",
    "  test()\n",
    "end"
   ]
  }
 ],
 "metadata": {
  "kernelspec": {
   "display_name": "iTorch",
   "language": "lua",
   "name": "itorch"
  },
  "language_info": {
   "name": "lua",
   "version": "5.1"
  }
 },
 "nbformat": 4,
 "nbformat_minor": 0
}
